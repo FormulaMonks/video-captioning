{
 "cells": [
  {
   "cell_type": "markdown",
   "id": "13d6ca7f-904e-4b86-ab85-0175552e7fdb",
   "metadata": {},
   "source": [
    "# Inferencing"
   ]
  },
  {
   "cell_type": "markdown",
   "id": "77032e64-7dac-4c36-a604-90752e116503",
   "metadata": {},
   "source": [
    "# Experiment\n",
    "https://huggingface.co/Neleac/timesformer-gpt2-video-captioning"
   ]
  },
  {
   "cell_type": "code",
   "execution_count": 1,
   "id": "61f34360-b613-4666-94e9-5f6960872ff8",
   "metadata": {},
   "outputs": [
    {
     "name": "stderr",
     "output_type": "stream",
     "text": [
      "Could not find image processor class in the image processor config or the model config. Loading based on pattern matching with the model's feature extractor configuration.\n"
     ]
    }
   ],
   "source": [
    "import av\n",
    "import numpy as np\n",
    "import torch\n",
    "from transformers import AutoImageProcessor, AutoTokenizer, VisionEncoderDecoderModel\n",
    "\n",
    "device = \"cuda\" if torch.cuda.is_available() else \"cpu\"\n",
    "\n",
    "# load pretrained processor, tokenizer, and model\n",
    "image_processor = AutoImageProcessor.from_pretrained(\"MCG-NJU/videomae-base\")\n",
    "tokenizer = AutoTokenizer.from_pretrained(\"gpt2\")\n",
    "model = VisionEncoderDecoderModel.from_pretrained(\"Neleac/timesformer-gpt2-video-captioning\").to(device)\n",
    "\n",
    "\n"
   ]
  },
  {
   "cell_type": "code",
   "execution_count": 2,
   "id": "7583a50d-7cc7-4912-ab29-f4867c211a93",
   "metadata": {},
   "outputs": [
    {
     "name": "stderr",
     "output_type": "stream",
     "text": [
      "/home/abhijoysarkar/video-captioning/venv/lib/python3.9/site-packages/transformers/feature_extraction_utils.py:149: UserWarning: Creating a tensor from a list of numpy.ndarrays is extremely slow. Please consider converting the list to a single numpy.ndarray with numpy.array() before converting to a tensor. (Triggered internally at ../torch/csrc/utils/tensor_new.cpp:245.)\n",
      "  return torch.tensor(value)\n"
     ]
    },
    {
     "name": "stdout",
     "output_type": "stream",
     "text": [
      "A man is lying on his stomach and another man is rubbing his belly button.\n"
     ]
    }
   ],
   "source": [
    "# load video\n",
    "video_path = \"TrainValVideo/video1184.mp4\"\n",
    "container = av.open(video_path)\n",
    "\n",
    "# extract evenly spaced frames from video\n",
    "seg_len = container.streams.video[0].frames\n",
    "clip_len = model.config.encoder.num_frames\n",
    "indices = set(np.linspace(0, seg_len, num=clip_len, endpoint=False).astype(np.int64))\n",
    "frames = []\n",
    "container.seek(0)\n",
    "for i, frame in enumerate(container.decode(video=0)):\n",
    "    if i in indices:\n",
    "        frames.append(frame.to_ndarray(format=\"rgb24\"))\n",
    "\n",
    "# generate caption\n",
    "gen_kwargs = {\n",
    "    \"min_length\": 10, \n",
    "    \"max_length\": 20, \n",
    "    \"num_beams\": 8,\n",
    "}\n",
    "pixel_values = image_processor(frames, return_tensors=\"pt\").pixel_values.to(device)\n",
    "tokens = model.generate(pixel_values, **gen_kwargs)\n",
    "caption = tokenizer.batch_decode(tokens, skip_special_tokens=True)[0]\n",
    "print(caption) # A man and a woman are dancing on a stage in front of a mirror."
   ]
  },
  {
   "cell_type": "code",
   "execution_count": null,
   "id": "8bf09bc1-682b-4035-815d-820668f1ee53",
   "metadata": {},
   "outputs": [],
   "source": []
  }
 ],
 "metadata": {
  "kernelspec": {
   "display_name": "Python 3 (ipykernel)",
   "language": "python",
   "name": "python3"
  },
  "language_info": {
   "codemirror_mode": {
    "name": "ipython",
    "version": 3
   },
   "file_extension": ".py",
   "mimetype": "text/x-python",
   "name": "python",
   "nbconvert_exporter": "python",
   "pygments_lexer": "ipython3",
   "version": "3.9.2"
  }
 },
 "nbformat": 4,
 "nbformat_minor": 5
}
